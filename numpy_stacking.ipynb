{
  "nbformat": 4,
  "nbformat_minor": 0,
  "metadata": {
    "colab": {
      "provenance": [],
      "authorship_tag": "ABX9TyOPTzu9wHAnqAVEc/9DFTDi",
      "include_colab_link": true
    },
    "kernelspec": {
      "name": "python3",
      "display_name": "Python 3"
    },
    "language_info": {
      "name": "python"
    }
  },
  "cells": [
    {
      "cell_type": "markdown",
      "metadata": {
        "id": "view-in-github",
        "colab_type": "text"
      },
      "source": [
        "<a href=\"https://colab.research.google.com/github/damildot/pupilica_AI_bootcamp/blob/main/numpy_stacking.ipynb\" target=\"_parent\"><img src=\"https://colab.research.google.com/assets/colab-badge.svg\" alt=\"Open In Colab\"/></a>"
      ]
    },
    {
      "cell_type": "code",
      "source": [
        "Stacking"
      ],
      "metadata": {
        "id": "0aStZXCCzCrh"
      },
      "execution_count": null,
      "outputs": []
    },
    {
      "cell_type": "code",
      "source": [
        "import numpy as np"
      ],
      "metadata": {
        "id": "-gamuJl8zEel"
      },
      "execution_count": 1,
      "outputs": []
    },
    {
      "cell_type": "code",
      "execution_count": 2,
      "metadata": {
        "id": "H0_hSUU4yPXX"
      },
      "outputs": [],
      "source": [
        "dizi1=np.array([1,2,3,4])\n",
        "dizi2=np.array([5,6,7,8])"
      ]
    },
    {
      "cell_type": "code",
      "source": [
        "np.vstack((dizi1,dizi2))\n"
      ],
      "metadata": {
        "colab": {
          "base_uri": "https://localhost:8080/"
        },
        "id": "JZsEgqWzzZIY",
        "outputId": "651a70db-a354-4424-af0f-5c06b22e03c0"
      },
      "execution_count": 3,
      "outputs": [
        {
          "output_type": "execute_result",
          "data": {
            "text/plain": [
              "array([[1, 2, 3, 4],\n",
              "       [5, 6, 7, 8]])"
            ]
          },
          "metadata": {},
          "execution_count": 3
        }
      ]
    },
    {
      "cell_type": "code",
      "source": [
        "np.hstack((dizi1,dizi2))"
      ],
      "metadata": {
        "colab": {
          "base_uri": "https://localhost:8080/"
        },
        "id": "94FQZtBYzeKP",
        "outputId": "7f173066-5a69-4c3c-8202-56e58d89aab9"
      },
      "execution_count": 4,
      "outputs": [
        {
          "output_type": "execute_result",
          "data": {
            "text/plain": [
              "array([1, 2, 3, 4, 5, 6, 7, 8])"
            ]
          },
          "metadata": {},
          "execution_count": 4
        }
      ]
    },
    {
      "cell_type": "code",
      "source": [
        "np.stack((dizi1,dizi2),axis=1)"
      ],
      "metadata": {
        "colab": {
          "base_uri": "https://localhost:8080/"
        },
        "id": "YntT8z3tzgYd",
        "outputId": "8bec7292-224a-4d80-a83c-afe6398984bc"
      },
      "execution_count": 9,
      "outputs": [
        {
          "output_type": "execute_result",
          "data": {
            "text/plain": [
              "array([[1, 5],\n",
              "       [2, 6],\n",
              "       [3, 7],\n",
              "       [4, 8]])"
            ]
          },
          "metadata": {},
          "execution_count": 9
        }
      ]
    },
    {
      "cell_type": "code",
      "source": [
        "#problem tanımı: 2 boyutlu (2 satır ve 2 sütun) 3 adet array oluştur,\n",
        "#bunları yatayda ve dikeyde birleştir\n",
        "dizi1=np.array([[1,2],[3,4]])\n",
        "dizi2=np.array([[5,6],[7,8]])\n",
        "dizi3=np.array([[9,10],[11,12]])\n",
        "print(np.vstack((dizi1,dizi2,dizi3)))\n",
        "print(np.hstack((dizi1,dizi2,dizi3)))"
      ],
      "metadata": {
        "colab": {
          "base_uri": "https://localhost:8080/"
        },
        "id": "vIT94Davz4PK",
        "outputId": "d3c2c61f-0a7b-4be9-9326-d5841f3a6cdc"
      },
      "execution_count": 11,
      "outputs": [
        {
          "output_type": "execute_result",
          "data": {
            "text/plain": [
              "array([[ 1,  2,  5,  6,  9, 10],\n",
              "       [ 3,  4,  7,  8, 11, 12]])"
            ]
          },
          "metadata": {},
          "execution_count": 11
        }
      ]
    }
  ]
}