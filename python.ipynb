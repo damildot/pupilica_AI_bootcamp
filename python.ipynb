{
 "cells": [
  {
   "cell_type": "code",
   "execution_count": 10,
   "metadata": {},
   "outputs": [
    {
     "name": "stdout",
     "output_type": "stream",
     "text": [
      "10\n"
     ]
    }
   ],
   "source": [
    "#Python \n",
    "#variable\n",
    "\n",
    "integer_var1=10\n",
    "integer_var2=10\n",
    "print(integer_var2)"
   ]
  },
  {
   "cell_type": "markdown",
   "metadata": {},
   "source": [
    "fractional number"
   ]
  },
  {
   "cell_type": "code",
   "execution_count": null,
   "metadata": {},
   "outputs": [],
   "source": [
    "float_var= 10.5\n",
    "print(float_var)"
   ]
  },
  {
   "cell_type": "markdown",
   "metadata": {},
   "source": [
    "4 operations property"
   ]
  },
  {
   "cell_type": "code",
   "execution_count": 11,
   "metadata": {},
   "outputs": [
    {
     "name": "stdout",
     "output_type": "stream",
     "text": [
      "20\n",
      "100\n",
      "0\n",
      "1.0\n"
     ]
    }
   ],
   "source": [
    "addition =integer_var2+integer_var2\n",
    "multiply= integer_var2*integer_var2\n",
    "minus=integer_var2-integer_var2\n",
    "division= integer_var2/integer_var2\n",
    "print(addition)\n",
    "print(multiply)\n",
    "print(minus)\n",
    "print(division)"
   ]
  },
  {
   "cell_type": "code",
   "execution_count": 14,
   "metadata": {},
   "outputs": [
    {
     "name": "stdout",
     "output_type": "stream",
     "text": [
      "<class 'str'>\n",
      "hello pupilica\n"
     ]
    }
   ],
   "source": [
    "text=\"hello pupilica\"\n",
    "print(type(text))\n",
    "print(text)"
   ]
  },
  {
   "cell_type": "code",
   "execution_count": 17,
   "metadata": {},
   "outputs": [
    {
     "name": "stdout",
     "output_type": "stream",
     "text": [
      "apple: 10 tl, banana: 20 tl\n",
      "apple: 10 tl, banana: 20 tl\n"
     ]
    }
   ],
   "source": [
    "apple_var = 10\n",
    "banana_var = 20\n",
    "print(f\"apple: {apple_var} tl, banana: {banana_var} tl\")\n",
    "print(\"apple: {} tl, banana: {} tl\".format(apple_var, banana_var\n",
    "))\n",
    "# apple: {apple_var} tl, banana: {banana_var} tl\n",
    "# apple: 10 tl, banana: 20 tl"
   ]
  },
  {
   "cell_type": "code",
   "execution_count": null,
   "metadata": {},
   "outputs": [],
   "source": [
    "\"\"\" COMMENT PLEASE\"\"\""
   ]
  },
  {
   "cell_type": "code",
   "execution_count": 19,
   "metadata": {},
   "outputs": [
    {
     "data": {
      "text/plain": [
       "'print=10\\nprint(5)'"
      ]
     },
     "execution_count": 19,
     "metadata": {},
     "output_type": "execute_result"
    }
   ],
   "source": [
    "#print is built-in function\n",
    "\"\"\"print=10\n",
    "print(5)\"\"\""
   ]
  },
  {
   "cell_type": "markdown",
   "metadata": {},
   "source": [
    "Functions"
   ]
  },
  {
   "cell_type": "markdown",
   "metadata": {},
   "source": [
    " User defined functions"
   ]
  },
  {
   "cell_type": "code",
   "execution_count": 25,
   "metadata": {},
   "outputs": [],
   "source": [
    "# calculate circle area pi*r^2\n",
    "pi = 3.14\n",
    "circle_radius = 3\n",
    "circle_area = pi*(circle_radius**2)\n",
    "\n",
    "\n"
   ]
  },
  {
   "cell_type": "code",
   "execution_count": 39,
   "metadata": {},
   "outputs": [],
   "source": [
    "def calculateCircleArea(circle_radius=5): # func ismi yazarken islevi belirtmek lazim\n",
    "  \"\"\"\n",
    "    Description: This funciton calculates circle area\n",
    "    input parameters: circle radius (circle_radius)\n",
    "    output: circle area (circle_area)\n",
    "  \"\"\"\n",
    "  PI = 3.14\n",
    "  circle_area = PI*(circle_radius**2)\n",
    "  print(f\"Circle Area: {circle_area}\")\n",
    "  return circle_area"
   ]
  },
  {
   "cell_type": "code",
   "execution_count": 41,
   "metadata": {},
   "outputs": [
    {
     "ename": "TypeError",
     "evalue": "'int' object is not callable",
     "output_type": "error",
     "traceback": [
      "\u001b[1;31m---------------------------------------------------------------------------\u001b[0m",
      "\u001b[1;31mTypeError\u001b[0m                                 Traceback (most recent call last)",
      "Cell \u001b[1;32mIn[41], line 1\u001b[0m\n\u001b[1;32m----> 1\u001b[0m \u001b[43mcalculateCircleArea\u001b[49m\u001b[43m(\u001b[49m\u001b[43m)\u001b[49m\n",
      "Cell \u001b[1;32mIn[39], line 9\u001b[0m, in \u001b[0;36mcalculateCircleArea\u001b[1;34m(circle_radius)\u001b[0m\n\u001b[0;32m      7\u001b[0m PI \u001b[38;5;241m=\u001b[39m \u001b[38;5;241m3.14\u001b[39m\n\u001b[0;32m      8\u001b[0m circle_area \u001b[38;5;241m=\u001b[39m PI\u001b[38;5;241m*\u001b[39m(circle_radius\u001b[38;5;241m*\u001b[39m\u001b[38;5;241m*\u001b[39m\u001b[38;5;241m2\u001b[39m)\n\u001b[1;32m----> 9\u001b[0m \u001b[38;5;28;43mprint\u001b[39;49m\u001b[43m(\u001b[49m\u001b[38;5;124;43mf\u001b[39;49m\u001b[38;5;124;43m\"\u001b[39;49m\u001b[38;5;124;43mCircle Area: \u001b[39;49m\u001b[38;5;132;43;01m{\u001b[39;49;00m\u001b[43mcircle_area\u001b[49m\u001b[38;5;132;43;01m}\u001b[39;49;00m\u001b[38;5;124;43m\"\u001b[39;49m\u001b[43m)\u001b[49m\n\u001b[0;32m     10\u001b[0m \u001b[38;5;28;01mreturn\u001b[39;00m circle_area\n",
      "\u001b[1;31mTypeError\u001b[0m: 'int' object is not callable"
     ]
    }
   ],
   "source": [
    "calculateCircleArea()"
   ]
  },
  {
   "cell_type": "code",
   "execution_count": 2,
   "metadata": {},
   "outputs": [],
   "source": [
    "# daire cevresi hesaplama: 2*pi*r\n",
    "def daireCevresiHesapla(r):\n",
    "  PI = 3.14\n",
    "  daire_cevresi = 2*PI*r\n",
    "  return daire_cevresi"
   ]
  },
  {
   "cell_type": "code",
   "execution_count": null,
   "metadata": {},
   "outputs": [],
   "source": [
    "user_input  = input(\"Bir daire yari capi girin: \")\n",
    "print(f\"girilen deger: {user_input} ve bu degerin type: {type(user_input)}\")\n",
    "user_input_int = int(user_input)\n",
    "print(f\"{type(user_input_int)}\")\n",
    "calculateCircleArea(user_input_int)"
   ]
  },
  {
   "cell_type": "code",
   "execution_count": null,
   "metadata": {},
   "outputs": [],
   "source": [
    "daire_cevresi_hesaplanan = daireCevresiHesapla(5)\n",
    "print(f\"hesapladigimiz daire ccevresi: {daire_cevresi_hesaplanan}\")"
   ]
  }
 ],
 "metadata": {
  "kernelspec": {
   "display_name": "Python 3",
   "language": "python",
   "name": "python3"
  },
  "language_info": {
   "codemirror_mode": {
    "name": "ipython",
    "version": 3
   },
   "file_extension": ".py",
   "mimetype": "text/x-python",
   "name": "python",
   "nbconvert_exporter": "python",
   "pygments_lexer": "ipython3",
   "version": "3.12.5"
  }
 },
 "nbformat": 4,
 "nbformat_minor": 2
}
