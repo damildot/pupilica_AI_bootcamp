{
 "cells": [
  {
   "cell_type": "markdown",
   "metadata": {},
   "source": [
    "if-else"
   ]
  },
  {
   "cell_type": "code",
   "execution_count": 1,
   "metadata": {},
   "outputs": [
    {
     "name": "stdout",
     "output_type": "stream",
     "text": [
      "sayi1: 12 kucuktur sayi2: 22\n"
     ]
    }
   ],
   "source": [
    "# eger sayi1 kucuktur sayi2 ise print(sayi1 kucuktur sayi2)\n",
    "sayi1 = 12\n",
    "sayi2 = 22\n",
    "\n",
    "if sayi1 < sayi2: # eger True (dogru) ise if icerisine gir\n",
    "  print(f\"sayi1: {sayi1} kucuktur sayi2: {sayi2}\")\n",
    "elif sayi2 < sayi1:\n",
    "  print(f\"sayi2:{sayi2} kucuktur sayi1:{sayi1}\")\n",
    "else:\n",
    "  print(\"sayilar esit\")"
   ]
  },
  {
   "cell_type": "code",
   "execution_count": 2,
   "metadata": {},
   "outputs": [
    {
     "name": "stdout",
     "output_type": "stream",
     "text": [
      "5 degeri listenin icinde\n"
     ]
    }
   ],
   "source": [
    "# problem: deger listenin icinde mi degil mi?\n",
    "liste = [1, 2, 3, 4, 5]\n",
    "deger = 5\n",
    "\n",
    "if deger in liste:\n",
    "  print(f\"{deger} degeri listenin icinde\")\n",
    "else:\n",
    "  print(f\"{deger} degeri listenin icinde degil\")"
   ]
  },
  {
   "cell_type": "code",
   "execution_count": 3,
   "metadata": {},
   "outputs": [
    {
     "name": "stdout",
     "output_type": "stream",
     "text": [
      "dict_keys(['Turkiye', 'Ingiltere', 'Almanya'])\n"
     ]
    }
   ],
   "source": [
    "# problem: ulke isimleri dictionary icerisinde var mi yok mu anlamaya calismak\n",
    "dictionary = {\"Turkiye\":\"Ankara\", \"Ingiltere\":\"Londra\", \"Almanya\":\"Berlin\"}\n",
    "keys = dictionary.keys()\n",
    "print(keys)\n"
   ]
  },
  {
   "cell_type": "code",
   "execution_count": 4,
   "metadata": {},
   "outputs": [
    {
     "name": "stdout",
     "output_type": "stream",
     "text": [
      "Ingiltere degeri sozlukte var\n"
     ]
    }
   ],
   "source": [
    "deger = \"Ingiltere\"\n",
    "if deger in keys:\n",
    "  print(f\"{deger} degeri sozlukte var\")\n",
    "else:\n",
    "  print(f\"{deger} degeri sozlukte yok\")"
   ]
  },
  {
   "cell_type": "code",
   "execution_count": 5,
   "metadata": {},
   "outputs": [
    {
     "name": "stdout",
     "output_type": "stream",
     "text": [
      " değil\n"
     ]
    }
   ],
   "source": [
    "# liste = haftanin gunleri\n",
    "# eger ptesi gunu listenin icerisinde 2. indexde ise print(ptesi gunu listenin ikinci indeksinde)\n",
    "liste=[\"pazartesi\",\"sali\",\"carsamba\",\"persembe\",\"cuma\",\"cumartesi\",\"pazar\"]\n",
    "\n",
    "if \"pazartesi\"==liste[2]:\n",
    "  print(\"ptase gunu listenin ikinci inkdeksinde\")\n",
    "else:\n",
    "  print(\" değil\")"
   ]
  },
  {
   "cell_type": "markdown",
   "metadata": {},
   "source": [
    "For Loop"
   ]
  },
  {
   "cell_type": "code",
   "execution_count": 6,
   "metadata": {},
   "outputs": [
    {
     "name": "stdout",
     "output_type": "stream",
     "text": [
      "1\n",
      "2\n",
      "3\n",
      "4\n",
      "5\n",
      "6\n",
      "7\n",
      "8\n",
      "9\n",
      "10\n"
     ]
    }
   ],
   "source": [
    "for i in range(1,11): # [1,2,3,4,5,6,7,8,9,10]\n",
    "  print(i)"
   ]
  },
  {
   "cell_type": "code",
   "execution_count": 7,
   "metadata": {},
   "outputs": [
    {
     "name": "stdout",
     "output_type": "stream",
     "text": [
      "1\n",
      "2\n",
      "3\n",
      "4\n"
     ]
    }
   ],
   "source": [
    "for i in [1,2,3,4]:\n",
    "  print(i)"
   ]
  },
  {
   "cell_type": "code",
   "execution_count": 8,
   "metadata": {},
   "outputs": [
    {
     "name": "stdout",
     "output_type": "stream",
     "text": [
      "2\n",
      "4\n",
      "6\n",
      "8\n"
     ]
    }
   ],
   "source": [
    "for i in [1,2,3,4]:\n",
    "  print(i*2)"
   ]
  },
  {
   "cell_type": "code",
   "execution_count": 9,
   "metadata": {},
   "outputs": [
    {
     "name": "stdout",
     "output_type": "stream",
     "text": [
      "pazartesi\n",
      "sali\n",
      "carsamba\n",
      "persembe\n",
      "cuma\n",
      "cumartesi\n",
      "pazar\n"
     ]
    }
   ],
   "source": [
    "liste1 = [\"pazartesi\",\"sali\",\"carsamba\",\"persembe\",\"cuma\",\"cumartesi\",\"pazar\"]\n",
    "for i in liste1:\n",
    "  print(i)"
   ]
  },
  {
   "cell_type": "code",
   "execution_count": 10,
   "metadata": {},
   "outputs": [
    {
     "name": "stdout",
     "output_type": "stream",
     "text": [
      "p\n",
      "a\n",
      "z\n",
      "a\n",
      "r\n",
      "t\n",
      "e\n",
      "s\n",
      "i\n",
      " \n",
      "s\n",
      "a\n",
      "l\n",
      "i\n"
     ]
    }
   ],
   "source": [
    "for i in \"pazartesi sali\": # string = karakter dizisi\n",
    "  print(i)"
   ]
  },
  {
   "cell_type": "code",
   "execution_count": 11,
   "metadata": {},
   "outputs": [
    {
     "name": "stdout",
     "output_type": "stream",
     "text": [
      "45\n",
      "45\n"
     ]
    }
   ],
   "source": [
    "liste = [1,2,3,4,5,6,7,8,9]\n",
    "\n",
    "toplam = 0\n",
    "for i in liste:\n",
    "  toplam = toplam + i\n",
    "print(toplam)\n",
    "print(sum(liste))"
   ]
  },
  {
   "cell_type": "code",
   "execution_count": 14,
   "metadata": {},
   "outputs": [
    {
     "data": {
      "text/plain": [
       "['Bugün', 'Python', 'Dersimiz', 'Var.']"
      ]
     },
     "execution_count": 14,
     "metadata": {},
     "output_type": "execute_result"
    }
   ],
   "source": [
    "\"\"\"\n",
    "problem: NLP, elimizde str olarak cumle var. mesela: \"Bugün Python Dersimiz Var.\"\n",
    "[\"bugün\", \"python\", \"dersimiz\", \"var.\"]\n",
    "\"\"\"\n",
    "cumle = \"Bugün Python Dersimiz Var.\"\n",
    "liste_cumle = cumle.split()\n",
    "liste_cumle"
   ]
  },
  {
   "cell_type": "code",
   "execution_count": 15,
   "metadata": {},
   "outputs": [
    {
     "name": "stdout",
     "output_type": "stream",
     "text": [
      "['bugün', 'python', 'dersimiz', 'var.']\n"
     ]
    }
   ],
   "source": [
    "liste = []\n",
    "for i in liste_cumle:\n",
    "  kelime_kucuk_harf = i.lower()\n",
    "  liste.append(kelime_kucuk_harf)\n",
    "  # print(kelime_kucuk_harf)\n",
    "print(liste)"
   ]
  },
  {
   "cell_type": "code",
   "execution_count": null,
   "metadata": {},
   "outputs": [],
   "source": [
    "\"\"\"\n",
    "problem: liste = [1,2,3,4,5,6]\n",
    "fonksiyon\n",
    "  girdi: liste\n",
    "  ciktisi: listenini icersinde bulunan cift sayilarin toplami olacak\n",
    "\"\"\""
   ]
  },
  {
   "cell_type": "code",
   "execution_count": 16,
   "metadata": {},
   "outputs": [
    {
     "name": "stdout",
     "output_type": "stream",
     "text": [
      "12\n"
     ]
    }
   ],
   "source": [
    "def fonksiyon(liste):\n",
    "  toplam = 0\n",
    "  for i in liste:\n",
    "    if i%2 == 0:  #cift sayi\n",
    "      toplam += i # toplam = toplam + i\n",
    "  return toplam\n",
    "\n",
    "liste=[1,2,3,4,5,6]\n",
    "print(fonksiyon(liste))"
   ]
  },
  {
   "cell_type": "markdown",
   "metadata": {},
   "source": [
    "While loop"
   ]
  },
  {
   "cell_type": "code",
   "execution_count": 17,
   "metadata": {},
   "outputs": [
    {
     "name": "stdout",
     "output_type": "stream",
     "text": [
      "0\n",
      "1\n",
      "2\n",
      "3\n"
     ]
    }
   ],
   "source": [
    "i = 0\n",
    "while(i < 4):\n",
    "  print(i)\n",
    "  i = i + 1"
   ]
  },
  {
   "cell_type": "code",
   "execution_count": 18,
   "metadata": {},
   "outputs": [
    {
     "name": "stdout",
     "output_type": "stream",
     "text": [
      "21\n"
     ]
    }
   ],
   "source": [
    "# while ile toplama\n",
    "liste = [1,2,3,4,5,6]\n",
    "i = 0\n",
    "toplam = 0\n",
    "while(i < len(liste)): # len(liste) = 6\n",
    "  toplam = toplam + liste[i]\n",
    "  i = i + 1\n",
    "print(toplam)"
   ]
  }
 ],
 "metadata": {
  "kernelspec": {
   "display_name": "Python 3",
   "language": "python",
   "name": "python3"
  },
  "language_info": {
   "codemirror_mode": {
    "name": "ipython",
    "version": 3
   },
   "file_extension": ".py",
   "mimetype": "text/x-python",
   "name": "python",
   "nbconvert_exporter": "python",
   "pygments_lexer": "ipython3",
   "version": "3.12.5"
  }
 },
 "nbformat": 4,
 "nbformat_minor": 2
}
