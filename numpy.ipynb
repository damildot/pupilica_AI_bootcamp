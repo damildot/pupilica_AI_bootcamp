{
 "cells": [
  {
   "cell_type": "markdown",
   "metadata": {},
   "source": [
    "Numpy"
   ]
  },
  {
   "cell_type": "code",
   "execution_count": 4,
   "metadata": {},
   "outputs": [
    {
     "data": {
      "text/plain": [
       "array([ 1,  2,  3,  4,  5,  6,  7,  8,  9, 10, 11, 12, 13, 14, 15])"
      ]
     },
     "execution_count": 4,
     "metadata": {},
     "output_type": "execute_result"
    }
   ],
   "source": [
    "import numpy as np\n",
    "#create numpy array\n",
    "liste=[1,2,3,4,5,6,7,8,9,10,11,12,13,14,15]\n",
    "dizi=np.array(liste)\n",
    "dizi\n",
    "\n"
   ]
  },
  {
   "cell_type": "code",
   "execution_count": 5,
   "metadata": {},
   "outputs": [
    {
     "data": {
      "text/plain": [
       "(15,)"
      ]
     },
     "execution_count": 5,
     "metadata": {},
     "output_type": "execute_result"
    }
   ],
   "source": [
    "#array boyutu\n",
    "dizi.size\n",
    "dizi.shape # (15,) 15x1 lik bir vektör //tek boyutlu\n"
   ]
  },
  {
   "cell_type": "code",
   "execution_count": 10,
   "metadata": {},
   "outputs": [
    {
     "name": "stdout",
     "output_type": "stream",
     "text": [
      "[[ 1  2  3  4  5]\n",
      " [ 6  7  8  9 10]\n",
      " [11 12 13 14 15]]\n",
      "[[ 1  2  3]\n",
      " [ 4  5  6]\n",
      " [ 7  8  9]\n",
      " [10 11 12]\n",
      " [13 14 15]]\n"
     ]
    }
   ],
   "source": [
    "#15x1 lik bir arraqyi 3x5 lik bir matrise çevirelim\n",
    "dizi2 =dizi.reshape(3,5)\n",
    "dizi3 =dizi.reshape(5,3)\n",
    "print(dizi2)\n",
    "print(dizi3)\n"
   ]
  },
  {
   "cell_type": "code",
   "execution_count": 13,
   "metadata": {},
   "outputs": [
    {
     "name": "stdout",
     "output_type": "stream",
     "text": [
      "shape: (3, 5)\n",
      "dimension: 2\n",
      "size 15\n",
      "<class 'numpy.ndarray'>\n"
     ]
    }
   ],
   "source": [
    "print(f\"shape: {dizi2.shape}\") # 3 x 5\n",
    "print(\"dimension:\" ,dizi2.ndim) # boyut sayısı\n",
    "print(\"size\", dizi2.size) # dizinin içerisinde kaç eleman var\n",
    "print(type(dizi2))"
   ]
  },
  {
   "cell_type": "code",
   "execution_count": 15,
   "metadata": {},
   "outputs": [
    {
     "name": "stdout",
     "output_type": "stream",
     "text": [
      "[[1 2 3 4]\n",
      " [1 2 3 4]\n",
      " [1 2 3 4]\n",
      " [1 2 3 4]\n",
      " [1 2 3 4]\n",
      " [1 2 3 4]]\n",
      "2\n",
      "(6, 4)\n"
     ]
    }
   ],
   "source": [
    "dizi2D=np.array([[1,2,3,4],[1,2,3,4],[1,2,3,4],[1,2,3,4],[1,2,3,4],[1,2,3,4]])\n",
    "print(dizi2D)\n",
    "print(dizi2D.ndim)\n",
    "print(dizi2D.shape)"
   ]
  },
  {
   "cell_type": "code",
   "execution_count": null,
   "metadata": {},
   "outputs": [],
   "source": [
    "sifir_dizi=np.zeros((3,4)) #sıfırlardan oluşan bir array\n",
    "sifir_dizi\n"
   ]
  },
  {
   "cell_type": "code",
   "execution_count": null,
   "metadata": {},
   "outputs": [],
   "source": [
    "#birlerden oluşan array\n",
    "bir_dizi=np.ones((3,4))\n",
    "bir_dizi"
   ]
  },
  {
   "cell_type": "code",
   "execution_count": null,
   "metadata": {},
   "outputs": [],
   "source": [
    "#boş bir array oluşturma\n",
    "bos_dizi=np.empty((2,4)) # pc için boş bir değer diye bir şey yoktur, boş bir array için bile 0lardan oluşan bir matris oluşturması gerekir\n",
    "bos_dizi"
   ]
  },
  {
   "cell_type": "markdown",
   "metadata": {},
   "source": [
    "ARANGE (basamak büyüklüğünde artarak ilerler)"
   ]
  },
  {
   "cell_type": "code",
   "execution_count": 27,
   "metadata": {},
   "outputs": [
    {
     "data": {
      "text/plain": [
       "array([[10],\n",
       "       [20],\n",
       "       [30],\n",
       "       [40]])"
      ]
     },
     "execution_count": 27,
     "metadata": {},
     "output_type": "execute_result"
    }
   ],
   "source": [
    "#arange(x,y,basamak) x den başlar y (y dahil değil) ye kadar gider basamak büyüklüğünde artarak gider\n",
    "#10,50,basamak=5\n",
    "dizi_aralik=np.arange(10,50,10)    # size -> 4 \n",
    "dizi_aralik.reshape(dizi_aralik.size,1)\n"
   ]
  },
  {
   "cell_type": "markdown",
   "metadata": {},
   "source": [
    "LINSPACE ( basamak kadar sayıya böler)"
   ]
  },
  {
   "cell_type": "code",
   "execution_count": 31,
   "metadata": {},
   "outputs": [
    {
     "name": "stdout",
     "output_type": "stream",
     "text": [
      "[10.         14.44444444 18.88888889 23.33333333 27.77777778 32.22222222\n",
      " 36.66666667 41.11111111 45.55555556 50.        ]\n"
     ]
    },
    {
     "data": {
      "text/plain": [
       "10"
      ]
     },
     "execution_count": 31,
     "metadata": {},
     "output_type": "execute_result"
    }
   ],
   "source": [
    "#linspace (x,y,basamak) x ve y aralıgında (y dahil) basamak kadar sayıya böler //bu bir vektör\n",
    "dizi_bosluk=np.linspace(10,50,10)\n",
    "print(dizi_bosluk)\n",
    "len(dizi_bosluk)"
   ]
  },
  {
   "cell_type": "markdown",
   "metadata": {},
   "source": [
    "Numpy temel operasyonları"
   ]
  },
  {
   "cell_type": "code",
   "execution_count": 32,
   "metadata": {},
   "outputs": [],
   "source": [
    "a =np.array([1,2,3])\n",
    "b=np.array([4,5,6])"
   ]
  },
  {
   "cell_type": "code",
   "execution_count": 33,
   "metadata": {},
   "outputs": [
    {
     "name": "stdout",
     "output_type": "stream",
     "text": [
      "toplama [5 7 9]\n",
      "çikarma [-3 -3 -3]\n",
      "dizinin kendisiyle çarpimi [1 4 9]\n"
     ]
    }
   ],
   "source": [
    "print(f\"toplama {a+b}\")\n",
    "print(f\"çikarma {a-b}\")\n",
    "print(f\"dizinin kendisiyle çarpimi {a**2}\")"
   ]
  },
  {
   "cell_type": "code",
   "execution_count": 36,
   "metadata": {},
   "outputs": [
    {
     "name": "stdout",
     "output_type": "stream",
     "text": [
      "[ True False False]\n",
      "[False False False]\n"
     ]
    }
   ],
   "source": [
    "#filtreleme\n",
    "a=np.array([1,2,3])\n",
    "filtre1= a>3\n",
    "filtre=a<2\n",
    "print(filtre)\n",
    "print(filtre1)"
   ]
  },
  {
   "cell_type": "code",
   "execution_count": null,
   "metadata": {},
   "outputs": [],
   "source": [
    "#matris carpimi\n",
    "a =np.array([[1,2,3],[4,5,6]]) #2 x 3 \n",
    "b=np.array([[4,5,6],[1,2,3]]) #2 x 3 -> T -> 3 x 2 \n",
    "print(a.dot(b.T))\n",
    "print(a@b.T)"
   ]
  },
  {
   "cell_type": "code",
   "execution_count": 37,
   "metadata": {},
   "outputs": [
    {
     "name": "stdout",
     "output_type": "stream",
     "text": [
      "3\n",
      "3\n"
     ]
    }
   ],
   "source": [
    "print(a.max())\n",
    "print(np.max(a))"
   ]
  },
  {
   "cell_type": "code",
   "execution_count": 38,
   "metadata": {},
   "outputs": [
    {
     "name": "stdout",
     "output_type": "stream",
     "text": [
      "1\n",
      "1\n"
     ]
    }
   ],
   "source": [
    "print(a.min())\n",
    "print(np.min(a))"
   ]
  },
  {
   "cell_type": "code",
   "execution_count": 39,
   "metadata": {},
   "outputs": [
    {
     "name": "stdout",
     "output_type": "stream",
     "text": [
      "[5 7 9]\n",
      "21\n"
     ]
    }
   ],
   "source": [
    "a =np.array([[1,2,3],[4,5,6]]) #2 x 3 \n",
    "print(sum(a))\n",
    "print(np.sum(a))"
   ]
  },
  {
   "cell_type": "code",
   "execution_count": 40,
   "metadata": {},
   "outputs": [
    {
     "name": "stdout",
     "output_type": "stream",
     "text": [
      "[ 6 15]\n",
      "[5 7 9]\n"
     ]
    }
   ],
   "source": [
    "#satır satır , sütun sütun toplama\n",
    "print(a.sum(axis=1) )##axis =1 satır demek\n",
    "print(a.sum(axis=0 ))##axis =0 sütun demek"
   ]
  },
  {
   "cell_type": "code",
   "execution_count": 41,
   "metadata": {},
   "outputs": [
    {
     "data": {
      "text/plain": [
       "array([[1.        , 1.41421356, 1.73205081],\n",
       "       [2.        , 2.23606798, 2.44948974]])"
      ]
     },
     "execution_count": 41,
     "metadata": {},
     "output_type": "execute_result"
    }
   ],
   "source": [
    "#kare kökü\n",
    "np.sqrt(a)"
   ]
  },
  {
   "cell_type": "code",
   "execution_count": 42,
   "metadata": {},
   "outputs": [
    {
     "name": "stdout",
     "output_type": "stream",
     "text": [
      "[[ 1  4  9]\n",
      " [16 25 36]]\n",
      "[[ 1  4  9]\n",
      " [16 25 36]]\n"
     ]
    }
   ],
   "source": [
    "#karesi \n",
    "print(np.square(a))\n",
    "print(a**2)"
   ]
  },
  {
   "cell_type": "code",
   "execution_count": 46,
   "metadata": {},
   "outputs": [
    {
     "name": "stdout",
     "output_type": "stream",
     "text": [
      "[[0.15039721 0.88497312 0.12413835]\n",
      " [0.09829958 0.11446492 0.56275328]\n",
      " [0.64207336 0.76668976 0.48946656]]\n",
      "[[0.30331802 0.90130438 0.23458379]\n",
      " [0.87270536 0.28302014 0.2342565 ]\n",
      " [0.62455186 0.65506328 0.26937694]]\n"
     ]
    }
   ],
   "source": [
    "#rastgele sayı üretme\n",
    "rastgele_dizi=np.random.random((3,3)) # normal dagılıma göre oluşturur 0-1 \n",
    "rastgele_dizi_1=np.random.rand(3,3)\n",
    "\n",
    "print(rastgele_dizi_1)\n",
    "print(rastgele_dizi)"
   ]
  },
  {
   "cell_type": "code",
   "execution_count": 51,
   "metadata": {},
   "outputs": [
    {
     "name": "stdout",
     "output_type": "stream",
     "text": [
      "[ 1.25424701  0.66306478 -0.21526266 -0.8341678  -0.5952026 ]\n",
      "[[ 1.11382832  0.75385111 -1.36500181]\n",
      " [ 0.29791071  0.61624266 -1.00984022]\n",
      " [ 0.60065235  0.273421   -0.57068811]\n",
      " [ 0.14462193 -1.00296602 -1.42796816]\n",
      " [ 0.2056552  -0.41922662  0.36511577]]\n"
     ]
    }
   ],
   "source": [
    "#rastgele sayı üretme\n",
    "rastgele_dizi_1=np.random.normal(0,1,5) # normal dagılıma göre 0 ortalamalı 1 standart sapmalı, 5 adet değer üret\n",
    "rastgele_dizi_2=np.random.normal(0,1,(5,3))\n",
    "\n",
    "rastgele_dizi_1.reshape(1,5)\n",
    "print(rastgele_dizi_1)\n",
    "print(rastgele_dizi_2)"
   ]
  },
  {
   "cell_type": "markdown",
   "metadata": {},
   "source": [
    "İndeskleme ve slicing"
   ]
  },
  {
   "cell_type": "code",
   "execution_count": 52,
   "metadata": {},
   "outputs": [
    {
     "name": "stdout",
     "output_type": "stream",
     "text": [
      "1\n",
      "4\n",
      "[1 2 3 4]\n",
      "[7 6 5 4 3 2 1]\n",
      "[1 2 3 4 5 6 7]\n"
     ]
    }
   ],
   "source": [
    "\n",
    "dizi=np.array([1,2,3,4,5,6,7])\n",
    "print(dizi[0])\n",
    "print(dizi[3])\n",
    "print(dizi[0:4])\n",
    "print(dizi[::-1]) # reverse\n",
    "print(dizi[::])\n"
   ]
  },
  {
   "cell_type": "code",
   "execution_count": 57,
   "metadata": {},
   "outputs": [
    {
     "data": {
      "text/plain": [
       "array([[ 1,  2,  3,  4,  5],\n",
       "       [ 6,  7,  8,  9, 10]])"
      ]
     },
     "execution_count": 57,
     "metadata": {},
     "output_type": "execute_result"
    }
   ],
   "source": [
    "dizi2D=np.array([[1,2,3,4,5],[6,7,8,9,10]])\n",
    "dizi2D"
   ]
  },
  {
   "cell_type": "code",
   "execution_count": 58,
   "metadata": {},
   "outputs": [
    {
     "name": "stdout",
     "output_type": "stream",
     "text": [
      "1\n",
      "8\n"
     ]
    }
   ],
   "source": [
    "print(dizi2D[0,0]) # sıfırıncı satır sıfırıncı sütun\n",
    "print(dizi2D[1,2])"
   ]
  },
  {
   "cell_type": "code",
   "execution_count": 59,
   "metadata": {},
   "outputs": [
    {
     "name": "stdout",
     "output_type": "stream",
     "text": [
      "[[ 6  7  8  9 10]]\n",
      "[ 6  7  8  9 10]\n"
     ]
    }
   ],
   "source": [
    "print(dizi2D[1:])\n",
    "print(dizi2D[1,])"
   ]
  },
  {
   "cell_type": "code",
   "execution_count": 60,
   "metadata": {},
   "outputs": [
    {
     "data": {
      "text/plain": [
       "array([3, 8])"
      ]
     },
     "execution_count": 60,
     "metadata": {},
     "output_type": "execute_result"
    }
   ],
   "source": [
    "dizi2D[:,2]"
   ]
  },
  {
   "cell_type": "code",
   "execution_count": 61,
   "metadata": {},
   "outputs": [
    {
     "data": {
      "text/plain": [
       "array([[3, 4],\n",
       "       [8, 9]])"
      ]
     },
     "execution_count": 61,
     "metadata": {},
     "output_type": "execute_result"
    }
   ],
   "source": [
    "dizi2D[:,2:4]"
   ]
  },
  {
   "cell_type": "code",
   "execution_count": 63,
   "metadata": {},
   "outputs": [
    {
     "data": {
      "text/plain": [
       "array([2, 9])"
      ]
     },
     "execution_count": 63,
     "metadata": {},
     "output_type": "execute_result"
    }
   ],
   "source": [
    "dizi2D[[0,1], [1,3]]"
   ]
  },
  {
   "cell_type": "code",
   "execution_count": 62,
   "metadata": {},
   "outputs": [
    {
     "data": {
      "text/plain": [
       "array([ 6,  7,  8,  9, 10])"
      ]
     },
     "execution_count": 62,
     "metadata": {},
     "output_type": "execute_result"
    }
   ],
   "source": [
    "dizi2D[-1,:]"
   ]
  },
  {
   "cell_type": "markdown",
   "metadata": {},
   "source": [
    "shape manipulation"
   ]
  },
  {
   "cell_type": "code",
   "execution_count": 64,
   "metadata": {},
   "outputs": [
    {
     "data": {
      "text/plain": [
       "(3, 3)"
      ]
     },
     "execution_count": 64,
     "metadata": {},
     "output_type": "execute_result"
    }
   ],
   "source": [
    "dizi2D=np.array([[1,2,3],[4,5,6],[7,8,9]])\n",
    "dizi2D_shape=dizi2D.shape\n",
    "dizi2D_shape"
   ]
  },
  {
   "cell_type": "code",
   "execution_count": 65,
   "metadata": {},
   "outputs": [
    {
     "data": {
      "text/plain": [
       "array([[1],\n",
       "       [2],\n",
       "       [3],\n",
       "       [4],\n",
       "       [5],\n",
       "       [6],\n",
       "       [7],\n",
       "       [8],\n",
       "       [9]])"
      ]
     },
     "execution_count": 65,
     "metadata": {},
     "output_type": "execute_result"
    }
   ],
   "source": [
    "dizi2D.reshape(9,1)\n",
    "dizi2D.reshape(dizi2D_shape[0]*dizi2D_shape[1],1)"
   ]
  },
  {
   "cell_type": "code",
   "execution_count": 66,
   "metadata": {},
   "outputs": [
    {
     "data": {
      "text/plain": [
       "array([[1],\n",
       "       [2],\n",
       "       [3],\n",
       "       [4],\n",
       "       [5],\n",
       "       [6],\n",
       "       [7],\n",
       "       [8],\n",
       "       [9]])"
      ]
     },
     "execution_count": 66,
     "metadata": {},
     "output_type": "execute_result"
    }
   ],
   "source": [
    "dizi2D.reshape(dizi2D_shape[0]*dizi2D_shape[1],-1) # -1 yazarsan kendi hesaplar"
   ]
  },
  {
   "cell_type": "code",
   "execution_count": 67,
   "metadata": {},
   "outputs": [
    {
     "data": {
      "text/plain": [
       "array([1, 2, 3, 4, 5, 6, 7, 8, 9])"
      ]
     },
     "execution_count": 67,
     "metadata": {},
     "output_type": "execute_result"
    }
   ],
   "source": [
    "dizi2D.ravel() #tensorflow -> flatter "
   ]
  },
  {
   "cell_type": "code",
   "execution_count": 70,
   "metadata": {},
   "outputs": [
    {
     "data": {
      "text/plain": [
       "array([[1, 4, 7],\n",
       "       [2, 5, 8],\n",
       "       [3, 6, 9]])"
      ]
     },
     "execution_count": 70,
     "metadata": {},
     "output_type": "execute_result"
    }
   ],
   "source": [
    "dizi2D.T"
   ]
  },
  {
   "cell_type": "code",
   "execution_count": 74,
   "metadata": {},
   "outputs": [
    {
     "name": "stdout",
     "output_type": "stream",
     "text": [
      "(3, 5)\n",
      "(5, 3)\n",
      "[[1 4 7 4 7]\n",
      " [2 5 8 5 8]\n",
      " [3 6 9 6 9]]\n"
     ]
    }
   ],
   "source": [
    "a1 =np.array([[1,2,3],[4,5,6],[7,8,9],[4,5,6],[7,8,9]]).T #2 x 3 \n",
    "a2 =np.array([[1,2,3,4,5],[6,7,8,9,10],[11,12,13,14,15]]).T #2 x 3 \n",
    "print(a1.shape)\n",
    "print(a2.shape)\n",
    "print(a1)\n"
   ]
  },
  {
   "cell_type": "code",
   "execution_count": 121,
   "metadata": {},
   "outputs": [
    {
     "name": "stdout",
     "output_type": "stream",
     "text": [
      "[[ 2  4  6  8 10]\n",
      " [12 14 16 18 20]\n",
      " [22 24 26 28 30]]\n"
     ]
    }
   ],
   "source": [
    "b =np.array([1,2,3,4,5,6,7,8,9,10,11,12,13,14,15]) #2 x 3 \n",
    "b.shape      \n",
    "b=b.reshape(3,5)\n",
    "C=a.T+b\n",
    "print(C)"
   ]
  },
  {
   "cell_type": "code",
   "execution_count": 155,
   "metadata": {},
   "outputs": [
    {
     "data": {
      "text/plain": [
       "array([[ 1.        ,  3.07142857,  5.14285714,  7.21428571,  9.28571429],\n",
       "       [11.35714286, 13.42857143, 15.5       , 17.57142857, 19.64285714],\n",
       "       [21.71428571, 23.78571429, 25.85714286, 27.92857143, 30.        ]])"
      ]
     },
     "execution_count": 155,
     "metadata": {},
     "output_type": "execute_result"
    }
   ],
   "source": [
    "\n",
    "E=np.arange(15).reshape(3,5)\n",
    "D=np.linspace(1,16,15).reshape(3,5)\n",
    "F=D+E\n",
    "F\n",
    "\n",
    "\n",
    " \n"
   ]
  },
  {
   "cell_type": "code",
   "execution_count": 161,
   "metadata": {},
   "outputs": [
    {
     "name": "stdout",
     "output_type": "stream",
     "text": [
      "(15,)\n"
     ]
    }
   ],
   "source": [
    "G=[]\n",
    "\n",
    "for i in range(C.shape[0]):\n",
    "  for j in range(C.shape[1]):\n",
    "       G.append(C[i,j]*F[i,j] )\n",
    "print(np.array(G).shape)"
   ]
  },
  {
   "cell_type": "code",
   "execution_count": 163,
   "metadata": {},
   "outputs": [
    {
     "name": "stdout",
     "output_type": "stream",
     "text": [
      "[ 2  4  6  8 10 12 14 16 18 20 22 24 26 28 30]\n",
      "[ 1.          3.07142857  5.14285714  7.21428571  9.28571429 11.35714286\n",
      " 13.42857143 15.5        17.57142857 19.64285714 21.71428571 23.78571429\n",
      " 25.85714286 27.92857143 30.        ]\n"
     ]
    }
   ],
   "source": [
    "C=C.reshape(15)\n",
    "F=F.reshape(15)\n",
    "print(C)\n",
    "print(F)"
   ]
  },
  {
   "cell_type": "code",
   "execution_count": 171,
   "metadata": {},
   "outputs": [
    {
     "name": "stdout",
     "output_type": "stream",
     "text": [
      "30\n",
      "1.0\n",
      "2\n",
      "30.0\n",
      "4\n",
      "27.92857142857143\n",
      "6\n",
      "25.857142857142858\n",
      "8\n",
      "23.785714285714285\n",
      "10\n",
      "21.714285714285715\n",
      "12\n",
      "19.642857142857142\n",
      "14\n",
      "17.57142857142857\n",
      "16\n",
      "15.5\n",
      "18\n",
      "13.428571428571429\n",
      "20\n",
      "11.357142857142858\n",
      "22\n",
      "9.285714285714285\n",
      "24\n",
      "7.214285714285714\n",
      "26\n",
      "5.142857142857142\n",
      "28\n",
      "3.071428571428571\n",
      "[np.float64(31.0), np.float64(32.0), np.float64(31.92857142857143), np.float64(31.857142857142858), np.float64(31.785714285714285), np.float64(31.714285714285715), np.float64(31.642857142857142), np.float64(31.57142857142857), np.float64(31.5), np.float64(31.42857142857143), np.float64(31.357142857142858), np.float64(31.285714285714285), np.float64(31.214285714285715), np.float64(31.142857142857142), np.float64(31.07142857142857)]\n",
      "[]\n",
      "\n"
     ]
    }
   ],
   "source": [
    "C=C.reshape(15)\n",
    "F=F.reshape(15)\n",
    "G1=[]\n",
    "G2=[]\n",
    "for i in range(C.shape[0]):\n",
    "       res= C[i-1]+F[-i]\n",
    "       print(C[i-1])\n",
    "       print(F[-i])\n",
    "       if res>1:\n",
    "              G1.append(res)\n",
    "       else:\n",
    "             G2.append(res)\n",
    "\n",
    "print(G1)\n",
    "print(G2)\n",
    "print()"
   ]
  }
 ],
 "metadata": {
  "kernelspec": {
   "display_name": "Python 3",
   "language": "python",
   "name": "python3"
  },
  "language_info": {
   "codemirror_mode": {
    "name": "ipython",
    "version": 3
   },
   "file_extension": ".py",
   "mimetype": "text/x-python",
   "name": "python",
   "nbconvert_exporter": "python",
   "pygments_lexer": "ipython3",
   "version": "3.12.5"
  }
 },
 "nbformat": 4,
 "nbformat_minor": 2
}
