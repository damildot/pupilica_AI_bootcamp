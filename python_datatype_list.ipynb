{
 "cells": [
  {
   "cell_type": "markdown",
   "metadata": {},
   "source": [
    "Data Type : List"
   ]
  },
  {
   "cell_type": "code",
   "execution_count": 2,
   "metadata": {},
   "outputs": [
    {
     "data": {
      "text/plain": [
       "['p', 'u', 'p', 'i', 'l', 'i', 'c', 'a']"
      ]
     },
     "execution_count": 2,
     "metadata": {},
     "output_type": "execute_result"
    }
   ],
   "source": [
    "liste= [\"p\",\"u\",\"p\",\"i\",\"l\",\"i\",\"c\",\"a\"]\n",
    "liste"
   ]
  },
  {
   "cell_type": "code",
   "execution_count": 4,
   "metadata": {},
   "outputs": [
    {
     "name": "stdout",
     "output_type": "stream",
     "text": [
      "<class 'list'>\n",
      "[10, 20, 30, 40, 50, 60, 70, 80]\n"
     ]
    }
   ],
   "source": [
    "liste_fiyat = [10, 20, 30,40,50,60,70,80]\n",
    "print(type(liste_fiyat))\n",
    "print(liste_fiyat)"
   ]
  },
  {
   "cell_type": "code",
   "execution_count": 5,
   "metadata": {},
   "outputs": [
    {
     "name": "stdout",
     "output_type": "stream",
     "text": [
      "['pazartesi', 'sali', 'carsamba', 'persembe', 'cuma', 'cumartesi', 'pazar']\n"
     ]
    }
   ],
   "source": [
    "hafta_liste = [\"pazartesi\", \"sali\", \"carsamba\", \"persembe\", \"cuma\", \"cumartesi\", \"pazar\"]\n",
    "print(hafta_liste)"
   ]
  },
  {
   "cell_type": "code",
   "execution_count": 6,
   "metadata": {},
   "outputs": [
    {
     "data": {
      "text/plain": [
       "'pazar'"
      ]
     },
     "execution_count": 6,
     "metadata": {},
     "output_type": "execute_result"
    }
   ],
   "source": [
    "# indeksleme\n",
    "hafta_liste[len(hafta_liste)-1] # listenin 0'inci indeksi"
   ]
  },
  {
   "cell_type": "code",
   "execution_count": 7,
   "metadata": {},
   "outputs": [
    {
     "data": {
      "text/plain": [
       "'pazar'"
      ]
     },
     "execution_count": 7,
     "metadata": {},
     "output_type": "execute_result"
    }
   ],
   "source": [
    "hafta_liste[-1]"
   ]
  },
  {
   "cell_type": "code",
   "execution_count": 8,
   "metadata": {},
   "outputs": [
    {
     "data": {
      "text/plain": [
       "['pazartesi', 'sali', 'carsamba', 'persembe']"
      ]
     },
     "execution_count": 8,
     "metadata": {},
     "output_type": "execute_result"
    }
   ],
   "source": [
    "# \"pazartesi\", \"sali\", \"carsamba\", \"persembe\"\n",
    "hafta_liste[0:4]"
   ]
  },
  {
   "cell_type": "code",
   "execution_count": 9,
   "metadata": {},
   "outputs": [
    {
     "name": "stdout",
     "output_type": "stream",
     "text": [
      "['persembe', 'cuma', 'cumartesi', 'pazar']\n",
      "['persembe', 'cuma', 'cumartesi', 'pazar']\n",
      "['persembe', 'cuma', 'cumartesi', 'pazar']\n"
     ]
    }
   ],
   "source": [
    "print(hafta_liste[3:])\n",
    "print(hafta_liste[3:7])\n",
    "print(hafta_liste[-4:])"
   ]
  },
  {
   "cell_type": "code",
   "execution_count": 12,
   "metadata": {},
   "outputs": [
    {
     "name": "stdout",
     "output_type": "stream",
     "text": [
      "[1, 3, 2, 4, 6, 5]\n",
      "[1, 3, 2, 4, 6, 5, 6]\n",
      "[1, 3, 2, 4, 5, 6]\n",
      "[6, 5, 4, 2, 3, 1]\n",
      "[1, 2, 3, 4, 5, 6]\n"
     ]
    }
   ],
   "source": [
    "#\n",
    "sayi_listesi = [1,3,2,4,6,5]\n",
    "print(sayi_listesi)\n",
    "sayi_listesi.append(6) # listeye eleman ekleme\n",
    "print(sayi_listesi)\n",
    "sayi_listesi.remove(6) # listeden eleman cikarma\n",
    "print(sayi_listesi)\n",
    "sayi_listesi.reverse() # listeyi ters cevirme\n",
    "print(sayi_listesi)\n",
    "sayi_listesi.sort()  # kucukten buyuge siralama\n",
    "# sayi_listesi.reverse()\n",
    "print(sayi_listesi)\n",
    "\n"
   ]
  },
  {
   "cell_type": "code",
   "execution_count": 15,
   "metadata": {},
   "outputs": [
    {
     "name": "stdout",
     "output_type": "stream",
     "text": [
      "[1, 3, 2]\n",
      "[1, 2, 3]\n",
      "[1, 3, 2]\n"
     ]
    }
   ],
   "source": [
    "liste_deneme = [1,3,2]\n",
    "liste_deneme_sorted = sorted(liste_deneme)  # kucukten buyuge siralama\n",
    "print(liste_deneme)\n",
    "print(liste_deneme_sorted)\n",
    "print(liste_deneme)"
   ]
  }
 ],
 "metadata": {
  "kernelspec": {
   "display_name": "Python 3",
   "language": "python",
   "name": "python3"
  },
  "language_info": {
   "codemirror_mode": {
    "name": "ipython",
    "version": 3
   },
   "file_extension": ".py",
   "mimetype": "text/x-python",
   "name": "python",
   "nbconvert_exporter": "python",
   "pygments_lexer": "ipython3",
   "version": "3.12.5"
  }
 },
 "nbformat": 4,
 "nbformat_minor": 2
}
